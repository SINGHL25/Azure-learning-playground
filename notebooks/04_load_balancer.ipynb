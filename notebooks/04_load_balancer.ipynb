
{
 "cells":[
  {"cell_type":"markdown","metadata":{},"source":["# Load Balancer demo"]},
  {"cell_type":"code","metadata":{},"source":["from src.lb_manager import create_loadbalancer_demo\ncreate_loadbalancer_demo()"], "execution_count": null, "outputs":[]}
 ],
 "metadata":{}, "nbformat":4,"nbformat_minor":5
}
