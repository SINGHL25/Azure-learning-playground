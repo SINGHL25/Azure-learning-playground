
{
 "cells":[
  {"cell_type":"markdown","metadata":{},"source":["# Global peering & VPN tunnel demo (conceptual)"]},
  {"cell_type":"code","metadata":{},"source":["print('Use VPN gateway or ExpressRoute + VNet peering for cross-region connectivity')"], "execution_count": null, "outputs":[]}
 ],
 "metadata":{}, "nbformat":4,"nbformat_minor":5
}
