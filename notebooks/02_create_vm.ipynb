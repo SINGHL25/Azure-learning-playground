
{
 "cells":[
  {"cell_type":"markdown","metadata":{},"source":["# Automate VM creation (demo)"]},
  {"cell_type":"code","metadata":{},"source":["from src.vm_manager import create_vm_demo\ncreate_vm_demo('student-vm')"], "execution_count": null, "outputs":[]}
 ],
 "metadata":{},
 "nbformat":4,"nbformat_minor":5
}
