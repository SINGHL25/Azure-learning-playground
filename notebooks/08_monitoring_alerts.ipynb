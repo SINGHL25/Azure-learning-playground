
{
 "cells":[
  {"cell_type":"markdown","metadata":{},"source":["# Monitoring & Alerts demo"]},
  {"cell_type":"code","metadata":{},"source":["from src.monitoring import sample_metrics_plot\nsample_metrics_plot()"], "execution_count": null, "outputs":[]}
 ],
 "metadata":{}, "nbformat":4,"nbformat_minor":5
}
