
{
 "cells":[
  {"cell_type":"markdown","metadata":{},"source":["# Storage operations demo"]},
  {"cell_type":"code","metadata":{},"source":["from src.storage_manager import create_storage_account_demo\ncreate_storage_account_demo()"], "execution_count": null, "outputs":[]}
 ],
 "metadata":{}, "nbformat":4,"nbformat_minor":5
}
