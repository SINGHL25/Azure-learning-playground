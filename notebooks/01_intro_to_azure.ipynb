
{
 "cells": [
  {"cell_type":"markdown","metadata":{},"source":["# Intro to Azure SDK (Demo)"]},
  {"cell_type":"code","metadata":{},"source":["from src.vm_manager import list_vms_local_demo\nlist_vms_local_demo()"], "execution_count": null, "outputs":[]}
 ],
 "metadata": {},
 "nbformat": 4,
 "nbformat_minor": 5
}
