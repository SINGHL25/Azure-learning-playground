
{
 "cells":[
  {"cell_type":"markdown","metadata":{},"source":["# VNet Peering demo"]},
  {"cell_type":"code","metadata":{},"source":["from src.vnet_manager import create_vnet_demo, create_peering_demo\nv1 = create_vnet_demo('a'); v2 = create_vnet_demo('b'); create_peering_demo('a','b')"], "execution_count": null, "outputs":[]}
 ],
 "metadata":{}, "nbformat":4,"nbformat_minor":5
}
