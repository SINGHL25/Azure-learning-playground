
{
 "cells":[
  {"cell_type":"markdown","metadata":{},"source":["# Availability zones demo (conceptual)"]},
  {"cell_type":"code","metadata":{},"source":["print('Deploy VMs across availability zones using CLI or IaC (see docs/availability.md)')"], "execution_count": null, "outputs":[]}
 ],
 "metadata":{}, "nbformat":4,"nbformat_minor":5
}
